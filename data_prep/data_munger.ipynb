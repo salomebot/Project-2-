{
 "cells": [
  {
   "cell_type": "markdown",
   "metadata": {},
   "source": [
    "### This pandas script was used to prepare the intial data set for the project.\n",
    "At a high level, using the complete data set from the first project (CSV), it creates a new data set by:\n",
    "     - Reducing the scope to the top 10 categories of incidents;\n",
    "     - adding neighborhood information for each record; and\n",
    "     - storing the results in CSV annd a sqlite database"
   ]
  },
  {
   "cell_type": "code",
   "execution_count": 2,
   "metadata": {
    "collapsed": true
   },
   "outputs": [],
   "source": [
    "import pandas as pd\n",
    "from LatLong import LatLong\n",
    "from pandas.core.groupby import DataError\n",
    "import re\n",
    "from datetime import datetime\n",
    "import sqlite3"
   ]
  },
  {
   "cell_type": "code",
   "execution_count": 4,
   "metadata": {},
   "outputs": [
    {
     "data": {
      "text/html": [
       "<div>\n",
       "<style>\n",
       "    .dataframe thead tr:only-child th {\n",
       "        text-align: right;\n",
       "    }\n",
       "\n",
       "    .dataframe thead th {\n",
       "        text-align: left;\n",
       "    }\n",
       "\n",
       "    .dataframe tbody tr th {\n",
       "        vertical-align: top;\n",
       "    }\n",
       "</style>\n",
       "<table border=\"1\" class=\"dataframe\">\n",
       "  <thead>\n",
       "    <tr style=\"text-align: right;\">\n",
       "      <th></th>\n",
       "      <th>id</th>\n",
       "      <th>year</th>\n",
       "      <th>month</th>\n",
       "      <th>day_m</th>\n",
       "      <th>day_w</th>\n",
       "      <th>time</th>\n",
       "      <th>category</th>\n",
       "      <th>meta_cat</th>\n",
       "      <th>resolution</th>\n",
       "      <th>location</th>\n",
       "      <th>lat</th>\n",
       "      <th>lng</th>\n",
       "      <th>zipcode</th>\n",
       "    </tr>\n",
       "  </thead>\n",
       "  <tbody>\n",
       "    <tr>\n",
       "      <th>0</th>\n",
       "      <td>160040847</td>\n",
       "      <td>2016</td>\n",
       "      <td>1</td>\n",
       "      <td>1</td>\n",
       "      <td>Friday</td>\n",
       "      <td>0:01</td>\n",
       "      <td>SUSPICIOUS OCC</td>\n",
       "      <td>WC</td>\n",
       "      <td>NONE</td>\n",
       "      <td>(37.71118870110826, -122.4286413796569)</td>\n",
       "      <td>37.711189</td>\n",
       "      <td>-122.428641</td>\n",
       "      <td>94112</td>\n",
       "    </tr>\n",
       "    <tr>\n",
       "      <th>1</th>\n",
       "      <td>160114953</td>\n",
       "      <td>2016</td>\n",
       "      <td>1</td>\n",
       "      <td>1</td>\n",
       "      <td>Friday</td>\n",
       "      <td>0:01</td>\n",
       "      <td>EMBEZZLEMENT</td>\n",
       "      <td>WC</td>\n",
       "      <td>NONE</td>\n",
       "      <td>(37.743953743297546, -122.42143054584913)</td>\n",
       "      <td>37.743954</td>\n",
       "      <td>-122.421430</td>\n",
       "      <td>94110</td>\n",
       "    </tr>\n",
       "    <tr>\n",
       "      <th>2</th>\n",
       "      <td>160049708</td>\n",
       "      <td>2016</td>\n",
       "      <td>1</td>\n",
       "      <td>1</td>\n",
       "      <td>Friday</td>\n",
       "      <td>0:01</td>\n",
       "      <td>NON-CRIMINAL</td>\n",
       "      <td>OI</td>\n",
       "      <td>NONE</td>\n",
       "      <td>(37.78829612755392, -122.4217341898383)</td>\n",
       "      <td>37.788296</td>\n",
       "      <td>-122.421734</td>\n",
       "      <td>94109</td>\n",
       "    </tr>\n",
       "    <tr>\n",
       "      <th>3</th>\n",
       "      <td>170273486</td>\n",
       "      <td>2016</td>\n",
       "      <td>1</td>\n",
       "      <td>1</td>\n",
       "      <td>Friday</td>\n",
       "      <td>0:01</td>\n",
       "      <td>OTHER OFFENSES</td>\n",
       "      <td>OI</td>\n",
       "      <td>NONE</td>\n",
       "      <td>(37.76496576270516, -122.46630620635018)</td>\n",
       "      <td>37.764966</td>\n",
       "      <td>-122.466306</td>\n",
       "      <td>94122</td>\n",
       "    </tr>\n",
       "    <tr>\n",
       "      <th>4</th>\n",
       "      <td>170368639</td>\n",
       "      <td>2016</td>\n",
       "      <td>1</td>\n",
       "      <td>1</td>\n",
       "      <td>Friday</td>\n",
       "      <td>0:01</td>\n",
       "      <td>EMBEZZLEMENT</td>\n",
       "      <td>WC</td>\n",
       "      <td>NONE</td>\n",
       "      <td>(37.79318750604184, -122.40056471552344)</td>\n",
       "      <td>37.793188</td>\n",
       "      <td>-122.400565</td>\n",
       "      <td>94104</td>\n",
       "    </tr>\n",
       "  </tbody>\n",
       "</table>\n",
       "</div>"
      ],
      "text/plain": [
       "          id  year  month  day_m   day_w  time        category meta_cat  \\\n",
       "0  160040847  2016      1      1  Friday  0:01  SUSPICIOUS OCC       WC   \n",
       "1  160114953  2016      1      1  Friday  0:01    EMBEZZLEMENT       WC   \n",
       "2  160049708  2016      1      1  Friday  0:01    NON-CRIMINAL       OI   \n",
       "3  170273486  2016      1      1  Friday  0:01  OTHER OFFENSES       OI   \n",
       "4  170368639  2016      1      1  Friday  0:01    EMBEZZLEMENT       WC   \n",
       "\n",
       "  resolution                                   location        lat  \\\n",
       "0       NONE    (37.71118870110826, -122.4286413796569)  37.711189   \n",
       "1       NONE  (37.743953743297546, -122.42143054584913)  37.743954   \n",
       "2       NONE    (37.78829612755392, -122.4217341898383)  37.788296   \n",
       "3       NONE   (37.76496576270516, -122.46630620635018)  37.764966   \n",
       "4       NONE   (37.79318750604184, -122.40056471552344)  37.793188   \n",
       "\n",
       "          lng  zipcode  \n",
       "0 -122.428641    94112  \n",
       "1 -122.421430    94110  \n",
       "2 -122.421734    94109  \n",
       "3 -122.466306    94122  \n",
       "4 -122.400565    94104  "
      ]
     },
     "execution_count": 4,
     "metadata": {},
     "output_type": "execute_result"
    }
   ],
   "source": [
    "# Start with the 2016 data that was obtained from the first project\n",
    "data_df = pd.read_csv('police_report_2016.csv')\n",
    "data_df.head()"
   ]
  },
  {
   "cell_type": "code",
   "execution_count": 15,
   "metadata": {},
   "outputs": [
    {
     "data": {
      "text/plain": [
       "39"
      ]
     },
     "execution_count": 15,
     "metadata": {},
     "output_type": "execute_result"
    }
   ],
   "source": [
    "data_df['category'].nunique()"
   ]
  },
  {
   "cell_type": "code",
   "execution_count": 11,
   "metadata": {},
   "outputs": [],
   "source": [
    "# From project 1, we had established the list of top 10 categories of incidents.\n",
    "# Using this list, reduce the 2016 data set to these categories.\n",
    "categories = ['LARCENY/THEFT', 'ASSAULT', 'VANDALISM', 'WARRANTS', 'VEHICLE THEFT', \n",
    "              'SUSPICIOUS OCC', 'BURGLARY', 'DRUG/NARCOTIC', 'ROBBERY', 'FRAUD']\n",
    "\n",
    "subset_df=data_df[data_df.category.isin(categories)]"
   ]
  },
  {
   "cell_type": "code",
   "execution_count": 14,
   "metadata": {},
   "outputs": [
    {
     "data": {
      "text/plain": [
       "10"
      ]
     },
     "execution_count": 14,
     "metadata": {},
     "output_type": "execute_result"
    }
   ],
   "source": [
    "subset_df['category'].nunique()"
   ]
  },
  {
   "cell_type": "code",
   "execution_count": null,
   "metadata": {
    "collapsed": true
   },
   "outputs": [],
   "source": [
    "# Using the code from lat/long finder found in github (https://github.com/dylburger/sf-lat-long-mapper)\n",
    "#   compile a list of neighborhood names for each incident, using its lat/long info.\n",
    "# This processing took nearly a full day to complete.\n",
    "# NOTE: a small percentage (roughly 0.3%) of incidents did not map to a neighborhood; the neighborhood info for these\n",
    "#   these records was set to 'BAD' for easy identifation in subsequent processing (by other team members).\n",
    "locations = []\n",
    "for i in range(0,len(subset_df['lat'])):\n",
    "    testLatLong = LatLong(latitude=data_df['lat'][i], longitude=data_df['lng'][i])\n",
    "    try:\n",
    "        neighborhood = testLatLong.get_neighborhood()\n",
    "        locations.append(neighborhood)\n",
    "    except:\n",
    "        locations.append('BAD')"
   ]
  },
  {
   "cell_type": "code",
   "execution_count": null,
   "metadata": {
    "collapsed": true
   },
   "outputs": [],
   "source": [
    "subset_df['neighbohood'] = locations\n",
    "subset_df.to_csv('complete_data.csv', index=False)"
   ]
  },
  {
   "cell_type": "code",
   "execution_count": 24,
   "metadata": {},
   "outputs": [
    {
     "data": {
      "text/html": [
       "<div>\n",
       "<style>\n",
       "    .dataframe thead tr:only-child th {\n",
       "        text-align: right;\n",
       "    }\n",
       "\n",
       "    .dataframe thead th {\n",
       "        text-align: left;\n",
       "    }\n",
       "\n",
       "    .dataframe tbody tr th {\n",
       "        vertical-align: top;\n",
       "    }\n",
       "</style>\n",
       "<table border=\"1\" class=\"dataframe\">\n",
       "  <thead>\n",
       "    <tr style=\"text-align: right;\">\n",
       "      <th></th>\n",
       "      <th>year</th>\n",
       "      <th>month</th>\n",
       "      <th>day_m</th>\n",
       "      <th>day_w</th>\n",
       "      <th>time</th>\n",
       "      <th>category</th>\n",
       "      <th>meta_cat</th>\n",
       "      <th>resolution</th>\n",
       "      <th>location</th>\n",
       "      <th>lat</th>\n",
       "      <th>lng</th>\n",
       "      <th>zipcode</th>\n",
       "      <th>neighborhood</th>\n",
       "    </tr>\n",
       "  </thead>\n",
       "  <tbody>\n",
       "    <tr>\n",
       "      <th>0</th>\n",
       "      <td>2016</td>\n",
       "      <td>1</td>\n",
       "      <td>1</td>\n",
       "      <td>Friday</td>\n",
       "      <td>0:01</td>\n",
       "      <td>SUSPICIOUS OCC</td>\n",
       "      <td>WC</td>\n",
       "      <td>NONE</td>\n",
       "      <td>(37.71118870110826, -122.4286413796569)</td>\n",
       "      <td>37.711189</td>\n",
       "      <td>-122.428641</td>\n",
       "      <td>94112</td>\n",
       "      <td>Crocker Amazon</td>\n",
       "    </tr>\n",
       "    <tr>\n",
       "      <th>1</th>\n",
       "      <td>2016</td>\n",
       "      <td>1</td>\n",
       "      <td>1</td>\n",
       "      <td>Friday</td>\n",
       "      <td>0:01</td>\n",
       "      <td>EMBEZZLEMENT</td>\n",
       "      <td>WC</td>\n",
       "      <td>NONE</td>\n",
       "      <td>(37.743953743297546, -122.42143054584913)</td>\n",
       "      <td>37.743954</td>\n",
       "      <td>-122.421430</td>\n",
       "      <td>94110</td>\n",
       "      <td>Bernal Heights</td>\n",
       "    </tr>\n",
       "    <tr>\n",
       "      <th>2</th>\n",
       "      <td>2016</td>\n",
       "      <td>1</td>\n",
       "      <td>1</td>\n",
       "      <td>Friday</td>\n",
       "      <td>0:01</td>\n",
       "      <td>NON-CRIMINAL</td>\n",
       "      <td>OI</td>\n",
       "      <td>NONE</td>\n",
       "      <td>(37.78829612755392, -122.4217341898383)</td>\n",
       "      <td>37.788296</td>\n",
       "      <td>-122.421734</td>\n",
       "      <td>94109</td>\n",
       "      <td>Lower Nob Hill</td>\n",
       "    </tr>\n",
       "    <tr>\n",
       "      <th>3</th>\n",
       "      <td>2016</td>\n",
       "      <td>1</td>\n",
       "      <td>1</td>\n",
       "      <td>Friday</td>\n",
       "      <td>0:01</td>\n",
       "      <td>OTHER OFFENSES</td>\n",
       "      <td>OI</td>\n",
       "      <td>NONE</td>\n",
       "      <td>(37.76496576270516, -122.46630620635018)</td>\n",
       "      <td>37.764966</td>\n",
       "      <td>-122.466306</td>\n",
       "      <td>94122</td>\n",
       "      <td>Inner Sunset</td>\n",
       "    </tr>\n",
       "    <tr>\n",
       "      <th>4</th>\n",
       "      <td>2016</td>\n",
       "      <td>1</td>\n",
       "      <td>1</td>\n",
       "      <td>Friday</td>\n",
       "      <td>0:01</td>\n",
       "      <td>EMBEZZLEMENT</td>\n",
       "      <td>WC</td>\n",
       "      <td>NONE</td>\n",
       "      <td>(37.79318750604184, -122.40056471552344)</td>\n",
       "      <td>37.793188</td>\n",
       "      <td>-122.400565</td>\n",
       "      <td>94104</td>\n",
       "      <td>Financial District</td>\n",
       "    </tr>\n",
       "  </tbody>\n",
       "</table>\n",
       "</div>"
      ],
      "text/plain": [
       "   year  month  day_m   day_w  time        category meta_cat resolution  \\\n",
       "0  2016      1      1  Friday  0:01  SUSPICIOUS OCC       WC       NONE   \n",
       "1  2016      1      1  Friday  0:01    EMBEZZLEMENT       WC       NONE   \n",
       "2  2016      1      1  Friday  0:01    NON-CRIMINAL       OI       NONE   \n",
       "3  2016      1      1  Friday  0:01  OTHER OFFENSES       OI       NONE   \n",
       "4  2016      1      1  Friday  0:01    EMBEZZLEMENT       WC       NONE   \n",
       "\n",
       "                                    location        lat         lng  zipcode  \\\n",
       "0    (37.71118870110826, -122.4286413796569)  37.711189 -122.428641    94112   \n",
       "1  (37.743953743297546, -122.42143054584913)  37.743954 -122.421430    94110   \n",
       "2    (37.78829612755392, -122.4217341898383)  37.788296 -122.421734    94109   \n",
       "3   (37.76496576270516, -122.46630620635018)  37.764966 -122.466306    94122   \n",
       "4   (37.79318750604184, -122.40056471552344)  37.793188 -122.400565    94104   \n",
       "\n",
       "         neighborhood  \n",
       "0      Crocker Amazon  \n",
       "1      Bernal Heights  \n",
       "2      Lower Nob Hill  \n",
       "3        Inner Sunset  \n",
       "4  Financial District  "
      ]
     },
     "execution_count": 24,
     "metadata": {},
     "output_type": "execute_result"
    }
   ],
   "source": [
    "# At this stage, we have a subset of data with neighborhhood infrmation.\n",
    "subset_df.head()"
   ]
  },
  {
   "cell_type": "code",
   "execution_count": 25,
   "metadata": {},
   "outputs": [
    {
     "data": {
      "text/plain": [
       "117"
      ]
     },
     "execution_count": 25,
     "metadata": {},
     "output_type": "execute_result"
    }
   ],
   "source": [
    "# Check to see how many distinct neighborhoods exist in the data set\n",
    "subset_df['neighborhood'].nunique()"
   ]
  },
  {
   "cell_type": "code",
   "execution_count": 26,
   "metadata": {
    "collapsed": true
   },
   "outputs": [],
   "source": [
    "# At this stage, we had many more distinct neighborhoods in the data set, as compared to the list of neighborhoods\n",
    "#   another team member found for SF neighborhoods polygon shape (which had 37 neighborhoods). This info was\n",
    "#   provided by the SF Planning commission.\n",
    "# This was due to the fact that the polygon shape data was provided for only major/large neighborhoods in SF.\n",
    "# To work around this issue, I manually culled the records by mapping smaller neighborhoods to one of the larger\n",
    "#   neighborhoods.  Due to the large size of data set, the following heuristic was used:\n",
    "#   1. Using python code, an ordered list of 117 neighborhoods was compiled.\n",
    "#   2. Top 43 neighborhoods on the list, those with more 1000 incidents, were mapped to one of the 37 major \n",
    "#      neighborhoods. This step was performed using Excel (global search/replace focused on the 'neighborhood' \n",
    "#      column).\n",
    "#   3. These records were then extracted from the main data set, and stored in a new CSV called\n",
    "#      complete_data_analyzed.csv. This step was perfromed using a combination of python and shell programming.\n",
    "# These steps are not reflected in this file; detials can be provided upon request."
   ]
  },
  {
   "cell_type": "code",
   "execution_count": 27,
   "metadata": {},
   "outputs": [
    {
     "data": {
      "text/html": [
       "<div>\n",
       "<style>\n",
       "    .dataframe thead tr:only-child th {\n",
       "        text-align: right;\n",
       "    }\n",
       "\n",
       "    .dataframe thead th {\n",
       "        text-align: left;\n",
       "    }\n",
       "\n",
       "    .dataframe tbody tr th {\n",
       "        vertical-align: top;\n",
       "    }\n",
       "</style>\n",
       "<table border=\"1\" class=\"dataframe\">\n",
       "  <thead>\n",
       "    <tr style=\"text-align: right;\">\n",
       "      <th></th>\n",
       "      <th>the_geom</th>\n",
       "      <th>cartodb_id</th>\n",
       "      <th>neighborho</th>\n",
       "      <th>created_at</th>\n",
       "      <th>updated_at</th>\n",
       "    </tr>\n",
       "  </thead>\n",
       "  <tbody>\n",
       "    <tr>\n",
       "      <th>0</th>\n",
       "      <td>0106000020E6100000010000000103000000010000000C...</td>\n",
       "      <td>23</td>\n",
       "      <td>Pacific Heights</td>\n",
       "      <td>2014-12-11</td>\n",
       "      <td>2014-12-11</td>\n",
       "    </tr>\n",
       "    <tr>\n",
       "      <th>1</th>\n",
       "      <td>0106000020E61000000100000001030000000100000015...</td>\n",
       "      <td>29</td>\n",
       "      <td>Presidio Heights</td>\n",
       "      <td>2014-12-11</td>\n",
       "      <td>2014-12-11</td>\n",
       "    </tr>\n",
       "    <tr>\n",
       "      <th>2</th>\n",
       "      <td>0106000020E61000000100000001030000000100000020...</td>\n",
       "      <td>31</td>\n",
       "      <td>Glen Park</td>\n",
       "      <td>2014-12-11</td>\n",
       "      <td>2014-12-11</td>\n",
       "    </tr>\n",
       "    <tr>\n",
       "      <th>3</th>\n",
       "      <td>0106000020E61000000100000001030000000200000094...</td>\n",
       "      <td>15</td>\n",
       "      <td>Financial District</td>\n",
       "      <td>2014-12-11</td>\n",
       "      <td>2014-12-11</td>\n",
       "    </tr>\n",
       "    <tr>\n",
       "      <th>4</th>\n",
       "      <td>0106000020E61000000100000001030000000100000025...</td>\n",
       "      <td>17</td>\n",
       "      <td>Mission</td>\n",
       "      <td>2014-12-11</td>\n",
       "      <td>2014-12-11</td>\n",
       "    </tr>\n",
       "  </tbody>\n",
       "</table>\n",
       "</div>"
      ],
      "text/plain": [
       "                                            the_geom  cartodb_id  \\\n",
       "0  0106000020E6100000010000000103000000010000000C...          23   \n",
       "1  0106000020E61000000100000001030000000100000015...          29   \n",
       "2  0106000020E61000000100000001030000000100000020...          31   \n",
       "3  0106000020E61000000100000001030000000200000094...          15   \n",
       "4  0106000020E61000000100000001030000000100000025...          17   \n",
       "\n",
       "           neighborho  created_at  updated_at  \n",
       "0     Pacific Heights  2014-12-11  2014-12-11  \n",
       "1    Presidio Heights  2014-12-11  2014-12-11  \n",
       "2           Glen Park  2014-12-11  2014-12-11  \n",
       "3  Financial District  2014-12-11  2014-12-11  \n",
       "4             Mission  2014-12-11  2014-12-11  "
      ]
     },
     "execution_count": 27,
     "metadata": {},
     "output_type": "execute_result"
    }
   ],
   "source": [
    "# The next step was to add geo spatial data to each of the incidents in the data set.\n",
    "# This task was accomplished by reading neighborhood geo spatial info from a CSV which contained these data, and \n",
    "#   adding a new column to the main data set. The ultimate goal was to create a data set that could be used by\n",
    "#   another member in charge of feeding these to Carto (for neighborhood level maps with detailed info).\n",
    "# Note: this process resulted in the size of the data set growing by over twenty fold (to around 600MB). The number\n",
    "#   of records did not change; the addition geo spatial column is what caused this huge increase.\n",
    "shapes_df = pd.read_csv('sf_planning_neighborhoods.csv')\n",
    "shapes_df.head()"
   ]
  },
  {
   "cell_type": "code",
   "execution_count": 28,
   "metadata": {
    "collapsed": true
   },
   "outputs": [],
   "source": [
    "# Define a function which returns geo data corresponding to the neighborhood column of the record being\n",
    "#     passed in (as the input parameter row).\n",
    "def mapper (row):\n",
    "    idx = shapes_df.loc[shapes_df['neighborho'] == row['neighborhood']].index.tolist()[0]\n",
    "    geo = shapes_df.the_geom[idx]\n",
    "    return geo"
   ]
  },
  {
   "cell_type": "code",
   "execution_count": null,
   "metadata": {
    "collapsed": true
   },
   "outputs": [],
   "source": [
    "# Now 'apply' this function to the main data set in order to add a new column containing geo spatial info\n",
    "#   for each incident.\n",
    "big_df['the_geom'] = subset_df.apply(mapper, axis=1)\n",
    "big_df.to_csv('incidents_with_geom.csv', index=False)"
   ]
  },
  {
   "cell_type": "code",
   "execution_count": 35,
   "metadata": {
    "collapsed": true
   },
   "outputs": [],
   "source": [
    "# Now depoit all these data into a sqlite database. First connect (create) the database.\n",
    "conn = sqlite3.connect(\"incidents.db\")"
   ]
  },
  {
   "cell_type": "code",
   "execution_count": null,
   "metadata": {
    "collapsed": true
   },
   "outputs": [],
   "source": [
    "big_df.to_sql('police_reports', conn, if_exists = 'append', index=False)\n",
    "shapes_df.to_sql('geo_shapes', conn, if_exists = 'append', index=False)"
   ]
  },
  {
   "cell_type": "code",
   "execution_count": 36,
   "metadata": {},
   "outputs": [
    {
     "data": {
      "text/html": [
       "<div>\n",
       "<style>\n",
       "    .dataframe thead tr:only-child th {\n",
       "        text-align: right;\n",
       "    }\n",
       "\n",
       "    .dataframe thead th {\n",
       "        text-align: left;\n",
       "    }\n",
       "\n",
       "    .dataframe tbody tr th {\n",
       "        vertical-align: top;\n",
       "    }\n",
       "</style>\n",
       "<table border=\"1\" class=\"dataframe\">\n",
       "  <thead>\n",
       "    <tr style=\"text-align: right;\">\n",
       "      <th></th>\n",
       "      <th>the_geom</th>\n",
       "      <th>cartodb_id</th>\n",
       "      <th>neighborho</th>\n",
       "      <th>created_at</th>\n",
       "      <th>updated_at</th>\n",
       "    </tr>\n",
       "  </thead>\n",
       "  <tbody>\n",
       "    <tr>\n",
       "      <th>0</th>\n",
       "      <td>0106000020E6100000010000000103000000010000000C...</td>\n",
       "      <td>23</td>\n",
       "      <td>Pacific Heights</td>\n",
       "      <td>2014-12-11</td>\n",
       "      <td>2014-12-11</td>\n",
       "    </tr>\n",
       "    <tr>\n",
       "      <th>1</th>\n",
       "      <td>0106000020E61000000100000001030000000100000015...</td>\n",
       "      <td>29</td>\n",
       "      <td>Presidio Heights</td>\n",
       "      <td>2014-12-11</td>\n",
       "      <td>2014-12-11</td>\n",
       "    </tr>\n",
       "    <tr>\n",
       "      <th>2</th>\n",
       "      <td>0106000020E61000000100000001030000000100000020...</td>\n",
       "      <td>31</td>\n",
       "      <td>Glen Park</td>\n",
       "      <td>2014-12-11</td>\n",
       "      <td>2014-12-11</td>\n",
       "    </tr>\n",
       "    <tr>\n",
       "      <th>3</th>\n",
       "      <td>0106000020E61000000100000001030000000200000094...</td>\n",
       "      <td>15</td>\n",
       "      <td>Financial District</td>\n",
       "      <td>2014-12-11</td>\n",
       "      <td>2014-12-11</td>\n",
       "    </tr>\n",
       "    <tr>\n",
       "      <th>4</th>\n",
       "      <td>0106000020E61000000100000001030000000100000025...</td>\n",
       "      <td>17</td>\n",
       "      <td>Mission</td>\n",
       "      <td>2014-12-11</td>\n",
       "      <td>2014-12-11</td>\n",
       "    </tr>\n",
       "    <tr>\n",
       "      <th>5</th>\n",
       "      <td>0106000020E61000000100000001030000000100000034...</td>\n",
       "      <td>1</td>\n",
       "      <td>Seacliff</td>\n",
       "      <td>2014-12-11</td>\n",
       "      <td>2014-12-11</td>\n",
       "    </tr>\n",
       "    <tr>\n",
       "      <th>6</th>\n",
       "      <td>0106000020E61000000100000001030000000100000032...</td>\n",
       "      <td>30</td>\n",
       "      <td>South of Market</td>\n",
       "      <td>2014-12-11</td>\n",
       "      <td>2014-12-11</td>\n",
       "    </tr>\n",
       "    <tr>\n",
       "      <th>7</th>\n",
       "      <td>0106000020E61000001100000001030000000400000000...</td>\n",
       "      <td>20</td>\n",
       "      <td>Marina</td>\n",
       "      <td>2014-12-11</td>\n",
       "      <td>2014-12-11</td>\n",
       "    </tr>\n",
       "    <tr>\n",
       "      <th>8</th>\n",
       "      <td>0106000020E610000002000000010300000001000000A9...</td>\n",
       "      <td>21</td>\n",
       "      <td>Bayview</td>\n",
       "      <td>2014-12-11</td>\n",
       "      <td>2014-12-11</td>\n",
       "    </tr>\n",
       "    <tr>\n",
       "      <th>9</th>\n",
       "      <td>0106000020E610000001000000010300000002000000F7...</td>\n",
       "      <td>32</td>\n",
       "      <td>Potrero Hill</td>\n",
       "      <td>2014-12-11</td>\n",
       "      <td>2014-12-11</td>\n",
       "    </tr>\n",
       "  </tbody>\n",
       "</table>\n",
       "</div>"
      ],
      "text/plain": [
       "                                            the_geom  cartodb_id  \\\n",
       "0  0106000020E6100000010000000103000000010000000C...          23   \n",
       "1  0106000020E61000000100000001030000000100000015...          29   \n",
       "2  0106000020E61000000100000001030000000100000020...          31   \n",
       "3  0106000020E61000000100000001030000000200000094...          15   \n",
       "4  0106000020E61000000100000001030000000100000025...          17   \n",
       "5  0106000020E61000000100000001030000000100000034...           1   \n",
       "6  0106000020E61000000100000001030000000100000032...          30   \n",
       "7  0106000020E61000001100000001030000000400000000...          20   \n",
       "8  0106000020E610000002000000010300000001000000A9...          21   \n",
       "9  0106000020E610000001000000010300000002000000F7...          32   \n",
       "\n",
       "           neighborho  created_at  updated_at  \n",
       "0     Pacific Heights  2014-12-11  2014-12-11  \n",
       "1    Presidio Heights  2014-12-11  2014-12-11  \n",
       "2           Glen Park  2014-12-11  2014-12-11  \n",
       "3  Financial District  2014-12-11  2014-12-11  \n",
       "4             Mission  2014-12-11  2014-12-11  \n",
       "5            Seacliff  2014-12-11  2014-12-11  \n",
       "6     South of Market  2014-12-11  2014-12-11  \n",
       "7              Marina  2014-12-11  2014-12-11  \n",
       "8             Bayview  2014-12-11  2014-12-11  \n",
       "9        Potrero Hill  2014-12-11  2014-12-11  "
      ]
     },
     "execution_count": 36,
     "metadata": {},
     "output_type": "execute_result"
    }
   ],
   "source": [
    "# Check to make sure the tables can be read\n",
    "pd.read_sql_query(\"select * from geo_shapes limit 10;\", conn)"
   ]
  },
  {
   "cell_type": "code",
   "execution_count": null,
   "metadata": {
    "collapsed": true
   },
   "outputs": [],
   "source": [
    "# We are finally data with data preparation/creation."
   ]
  }
 ],
 "metadata": {
  "kernelspec": {
   "display_name": "Python 3",
   "language": "python",
   "name": "python3"
  },
  "language_info": {
   "codemirror_mode": {
    "name": "ipython",
    "version": 3
   },
   "file_extension": ".py",
   "mimetype": "text/x-python",
   "name": "python",
   "nbconvert_exporter": "python",
   "pygments_lexer": "ipython3",
   "version": "3.6.3"
  }
 },
 "nbformat": 4,
 "nbformat_minor": 2
}
